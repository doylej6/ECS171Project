{
 "cells": [
  {
   "cell_type": "code",
   "execution_count": 1,
   "id": "340afa9b",
   "metadata": {},
   "outputs": [],
   "source": [
    "import pandas as pd"
   ]
  },
  {
   "cell_type": "code",
   "execution_count": 2,
   "id": "2697e31e",
   "metadata": {},
   "outputs": [],
   "source": [
    "df = pd.read_csv(\"US_Accidents_Dec20.csv\")\n",
    "\n",
    "len_df = len(df)\n",
    "\n",
    "df = df[df[\"State\"] == \"CA\"]"
   ]
  },
  {
   "cell_type": "code",
   "execution_count": 3,
   "id": "15f19382",
   "metadata": {},
   "outputs": [
    {
     "name": "stdout",
     "output_type": "stream",
     "text": [
      "CA ratio: 0.22978749644716967\n"
     ]
    }
   ],
   "source": [
    "# the percentage of car accidents in CA among all states\n",
    "print(\"CA ratio:\", len(df) / len_df)"
   ]
  },
  {
   "cell_type": "code",
   "execution_count": 4,
   "id": "25769b0e",
   "metadata": {},
   "outputs": [
    {
     "name": "stdout",
     "output_type": "stream",
     "text": [
      "                                 column_name  percent_missing\n",
      "ID                                        ID         0.000000\n",
      "Crossing                            Crossing         0.000000\n",
      "Give_Way                            Give_Way         0.000000\n",
      "Junction                            Junction         0.000000\n",
      "No_Exit                              No_Exit         0.000000\n",
      "Railway                              Railway         0.000000\n",
      "Roundabout                        Roundabout         0.000000\n",
      "Station                              Station         0.000000\n",
      "Country                              Country         0.000000\n",
      "Stop                                    Stop         0.000000\n",
      "State                                  State         0.000000\n",
      "County                                County         0.000000\n",
      "Traffic_Calming              Traffic_Calming         0.000000\n",
      "Bump                                    Bump         0.000000\n",
      "Side                                    Side         0.000000\n",
      "Traffic_Signal                Traffic_Signal         0.000000\n",
      "Distance(mi)                    Distance(mi)         0.000000\n",
      "Turning_Loop                    Turning_Loop         0.000000\n",
      "Start_Lng                          Start_Lng         0.000000\n",
      "Start_Lat                          Start_Lat         0.000000\n",
      "End_Time                            End_Time         0.000000\n",
      "Start_Time                        Start_Time         0.000000\n",
      "Severity                            Severity         0.000000\n",
      "Source                                Source         0.000000\n",
      "Street                                Street         0.000000\n",
      "Amenity                              Amenity         0.000000\n",
      "Description                      Description         0.000103\n",
      "Sunrise_Sunset                Sunrise_Sunset         0.000823\n",
      "Civil_Twilight                Civil_Twilight         0.000823\n",
      "Astronomical_Twilight  Astronomical_Twilight         0.000823\n",
      "Nautical_Twilight          Nautical_Twilight         0.000823\n",
      "City                                    City         0.000823\n",
      "Timezone                            Timezone         0.037426\n",
      "Zipcode                              Zipcode         0.037426\n",
      "Airport_Code                    Airport_Code         0.044418\n",
      "Weather_Timestamp          Weather_Timestamp         1.796964\n",
      "Pressure(in)                    Pressure(in)         2.056170\n",
      "Weather_Condition          Weather_Condition         2.237337\n",
      "Visibility(mi)                Visibility(mi)         2.263247\n",
      "Wind_Direction                Wind_Direction         2.366066\n",
      "Temperature(F)                Temperature(F)         2.690870\n",
      "Humidity(%)                      Humidity(%)         2.845201\n",
      "Wind_Speed(mph)              Wind_Speed(mph)        14.358642\n",
      "TMC                                      TMC        46.148460\n",
      "Wind_Chill(F)                  Wind_Chill(F)        49.824745\n",
      "Precipitation(in)          Precipitation(in)        51.837012\n",
      "End_Lat                              End_Lat        53.851540\n",
      "End_Lng                              End_Lng        53.851540\n",
      "Number                                Number        76.492852\n"
     ]
    }
   ],
   "source": [
    "percent_missing = df.isnull().sum() * 100 / len(df)\n",
    "missing_value_df = pd.DataFrame({'column_name': df.columns,\n",
    "                             \t'percent_missing': percent_missing})\n",
    "missing_value_df.sort_values('percent_missing', inplace=True)\n",
    "print(missing_value_df)"
   ]
  },
  {
   "cell_type": "code",
   "execution_count": 5,
   "id": "962f9253",
   "metadata": {},
   "outputs": [],
   "source": [
    "# Drop columns that have a lot of the data missing\n",
    "df.drop(['End_Lat', 'End_Lng', 'Number', 'Precipitation(in)', 'Wind_Chill(F)', 'TMC'], axis = 1, inplace=True)\n",
    "\n",
    "# Drop columns that cannot be convert to numerical value or columns that are considered irrelevant \n",
    "df.drop(['ID', 'Source', 'Description', 'Street', 'Description', 'Street', 'Side', 'City', 'County', 'State', 'Zipcode',\n",
    "        'Country', 'Timezone', 'Airport_Code', 'Civil_Twilight', 'Nautical_Twilight', 'Astronomical_Twilight'], axis = 1, inplace=True)"
   ]
  },
  {
   "cell_type": "code",
   "execution_count": 6,
   "id": "4ec62208",
   "metadata": {
    "scrolled": true
   },
   "outputs": [
    {
     "name": "stdout",
     "output_type": "stream",
     "text": [
      "Remaining columns:  ['Severity', 'Start_Time', 'End_Time', 'Start_Lat', 'Start_Lng', 'Distance(mi)', 'Weather_Timestamp', 'Temperature(F)', 'Humidity(%)', 'Pressure(in)', 'Visibility(mi)', 'Wind_Direction', 'Wind_Speed(mph)', 'Weather_Condition', 'Amenity', 'Bump', 'Crossing', 'Give_Way', 'Junction', 'No_Exit', 'Railway', 'Roundabout', 'Station', 'Stop', 'Traffic_Calming', 'Traffic_Signal', 'Turning_Loop', 'Sunrise_Sunset']\n"
     ]
    }
   ],
   "source": [
    "# remaining columns\n",
    "print(\"Remaining columns: \", list(df))"
   ]
  },
  {
   "cell_type": "code",
   "execution_count": 7,
   "id": "44b6b8e9",
   "metadata": {},
   "outputs": [
    {
     "name": "stdout",
     "output_type": "stream",
     "text": [
      "dropped data:  150211\n"
     ]
    }
   ],
   "source": [
    "# Drop the rows where at least one element is missing.\n",
    "data_len = len(df)\n",
    "df = df.dropna()\n",
    "print(\"dropped data: \", data_len - len(df))"
   ]
  },
  {
   "cell_type": "code",
   "execution_count": 8,
   "id": "8e494858",
   "metadata": {},
   "outputs": [],
   "source": [
    "# Export data \n",
    "df.to_csv(\"CA_Accidents_Dec20.csv\", index=False)"
   ]
  }
 ],
 "metadata": {
  "kernelspec": {
   "display_name": "Python 3",
   "language": "python",
   "name": "python3"
  },
  "language_info": {
   "codemirror_mode": {
    "name": "ipython",
    "version": 3
   },
   "file_extension": ".py",
   "mimetype": "text/x-python",
   "name": "python",
   "nbconvert_exporter": "python",
   "pygments_lexer": "ipython3",
   "version": "3.8.8"
  }
 },
 "nbformat": 4,
 "nbformat_minor": 5
}
